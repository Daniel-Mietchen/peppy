{
 "cells": [
  {
   "cell_type": "markdown",
   "metadata": {},
   "source": [
    "# Subprojects\n",
    "\n",
    "The example below demonstrates how and why to use implied attributes functionality to **define numerous similar projects in a single project config file**. This functionality is extremely convenient when one has to define projects with small settings discreptancies, like different attributes in the annotation sheet. For example libraries `ABCD` and `EFGH` instead of the original `RRBS`.\n",
    "\n",
    "Import libraries and set the working directory:"
   ]
  },
  {
   "cell_type": "code",
   "execution_count": 1,
   "metadata": {},
   "outputs": [],
   "source": [
    "import os\n",
    "import peppy\n",
    "os.chdir(\"/Users/mstolarczyk/Uczelnia/UVA/\")"
   ]
  },
  {
   "cell_type": "markdown",
   "metadata": {},
   "source": [
    "Read in the project metadata by specifying the path to the `project_config.yaml`"
   ]
  },
  {
   "cell_type": "code",
   "execution_count": 2,
   "metadata": {},
   "outputs": [],
   "source": [
    "p_subproj = peppy.Project(\"example_peps/example_subprojects1/project_config.yaml\")"
   ]
  },
  {
   "cell_type": "markdown",
   "metadata": {},
   "source": [
    "To see whether there are any subprojects available within the `project_config.yaml` file run the following command:"
   ]
  },
  {
   "cell_type": "markdown",
   "metadata": {},
   "source": [
    "Let's inspect the sample annotation sheet."
   ]
  },
  {
   "cell_type": "code",
   "execution_count": 3,
   "metadata": {},
   "outputs": [
    {
     "data": {
      "text/html": [
       "<div>\n",
       "<style scoped>\n",
       "    .dataframe tbody tr th:only-of-type {\n",
       "        vertical-align: middle;\n",
       "    }\n",
       "\n",
       "    .dataframe tbody tr th {\n",
       "        vertical-align: top;\n",
       "    }\n",
       "\n",
       "    .dataframe thead th {\n",
       "        text-align: right;\n",
       "    }\n",
       "</style>\n",
       "<table border=\"1\" class=\"dataframe\">\n",
       "  <thead>\n",
       "    <tr style=\"text-align: right;\">\n",
       "      <th></th>\n",
       "      <th>sample_name</th>\n",
       "      <th>library</th>\n",
       "      <th>organism</th>\n",
       "      <th>time</th>\n",
       "      <th>file_path</th>\n",
       "    </tr>\n",
       "  </thead>\n",
       "  <tbody>\n",
       "    <tr>\n",
       "      <th>0</th>\n",
       "      <td>pig_0h</td>\n",
       "      <td>RRBS</td>\n",
       "      <td>pig</td>\n",
       "      <td>0</td>\n",
       "      <td>source1</td>\n",
       "    </tr>\n",
       "    <tr>\n",
       "      <th>1</th>\n",
       "      <td>pig_1h</td>\n",
       "      <td>RRBS</td>\n",
       "      <td>pig</td>\n",
       "      <td>1</td>\n",
       "      <td>source1</td>\n",
       "    </tr>\n",
       "    <tr>\n",
       "      <th>2</th>\n",
       "      <td>frog_0h</td>\n",
       "      <td>RRBS</td>\n",
       "      <td>frog</td>\n",
       "      <td>0</td>\n",
       "      <td>source1</td>\n",
       "    </tr>\n",
       "    <tr>\n",
       "      <th>3</th>\n",
       "      <td>frog_1h</td>\n",
       "      <td>RRBS</td>\n",
       "      <td>frog</td>\n",
       "      <td>1</td>\n",
       "      <td>source1</td>\n",
       "    </tr>\n",
       "  </tbody>\n",
       "</table>\n",
       "</div>"
      ],
      "text/plain": [
       "  sample_name library organism time file_path\n",
       "0      pig_0h    RRBS      pig    0   source1\n",
       "1      pig_1h    RRBS      pig    1   source1\n",
       "2     frog_0h    RRBS     frog    0   source1\n",
       "3     frog_1h    RRBS     frog    1   source1"
      ]
     },
     "execution_count": 3,
     "metadata": {},
     "output_type": "execute_result"
    }
   ],
   "source": [
    "p_subproj.sheet"
   ]
  },
  {
   "cell_type": "code",
   "execution_count": 4,
   "metadata": {
    "scrolled": true
   },
   "outputs": [
    {
     "data": {
      "text/plain": [
       "{'newLib': {'metadata': {'sample_annotation': 'sample_annotation_newLib.csv'}}, 'newLib2': {'metadata': {'sample_annotation': 'sample_annotation_newLib2.csv'}}}"
      ]
     },
     "execution_count": 4,
     "metadata": {},
     "output_type": "execute_result"
    }
   ],
   "source": [
    "p_subproj.subprojects"
   ]
  },
  {
   "cell_type": "markdown",
   "metadata": {},
   "source": [
    "As you can see, there are two subprojects available: `newLib` and `newLib2`. Nonetheless, only the main opne is \"active\".\n",
    "\n",
    "Each of subprojects can be activated with the following command:"
   ]
  },
  {
   "cell_type": "code",
   "execution_count": 5,
   "metadata": {},
   "outputs": [],
   "source": [
    "p_subproj.activate_subproject(\"newLib\")\n",
    "p_subproj.activate_subproject(\"newLib2\")"
   ]
  },
  {
   "cell_type": "markdown",
   "metadata": {},
   "source": [
    "Let's inspect the sample annotation sheet when the `newLib2` subproject is active."
   ]
  },
  {
   "cell_type": "code",
   "execution_count": 6,
   "metadata": {},
   "outputs": [
    {
     "data": {
      "text/html": [
       "<div>\n",
       "<style scoped>\n",
       "    .dataframe tbody tr th:only-of-type {\n",
       "        vertical-align: middle;\n",
       "    }\n",
       "\n",
       "    .dataframe tbody tr th {\n",
       "        vertical-align: top;\n",
       "    }\n",
       "\n",
       "    .dataframe thead th {\n",
       "        text-align: right;\n",
       "    }\n",
       "</style>\n",
       "<table border=\"1\" class=\"dataframe\">\n",
       "  <thead>\n",
       "    <tr style=\"text-align: right;\">\n",
       "      <th></th>\n",
       "      <th>sample_name</th>\n",
       "      <th>library</th>\n",
       "      <th>organism</th>\n",
       "      <th>time</th>\n",
       "      <th>file_path</th>\n",
       "    </tr>\n",
       "  </thead>\n",
       "  <tbody>\n",
       "    <tr>\n",
       "      <th>0</th>\n",
       "      <td>pig_0h</td>\n",
       "      <td>EFGH</td>\n",
       "      <td>pig</td>\n",
       "      <td>0</td>\n",
       "      <td>source1</td>\n",
       "    </tr>\n",
       "    <tr>\n",
       "      <th>1</th>\n",
       "      <td>pig_1h</td>\n",
       "      <td>EFGH</td>\n",
       "      <td>pig</td>\n",
       "      <td>1</td>\n",
       "      <td>source1</td>\n",
       "    </tr>\n",
       "    <tr>\n",
       "      <th>2</th>\n",
       "      <td>frog_0h</td>\n",
       "      <td>EFGH</td>\n",
       "      <td>frog</td>\n",
       "      <td>0</td>\n",
       "      <td>source1</td>\n",
       "    </tr>\n",
       "    <tr>\n",
       "      <th>3</th>\n",
       "      <td>frog_1h</td>\n",
       "      <td>EFGH</td>\n",
       "      <td>frog</td>\n",
       "      <td>1</td>\n",
       "      <td>source1</td>\n",
       "    </tr>\n",
       "  </tbody>\n",
       "</table>\n",
       "</div>"
      ],
      "text/plain": [
       "  sample_name library organism time file_path\n",
       "0      pig_0h    EFGH      pig    0   source1\n",
       "1      pig_1h    EFGH      pig    1   source1\n",
       "2     frog_0h    EFGH     frog    0   source1\n",
       "3     frog_1h    EFGH     frog    1   source1"
      ]
     },
     "execution_count": 6,
     "metadata": {},
     "output_type": "execute_result"
    }
   ],
   "source": [
    "p_subproj.sheet"
   ]
  },
  {
   "cell_type": "markdown",
   "metadata": {},
   "source": [
    "The `library` attribute in each sample has changed from `RRBS` to `EFGH`. This behavior was specified in the `project_config.yaml` that points to a different `sample_annotation.csv` with changed `library` attribute."
   ]
  },
  {
   "cell_type": "code",
   "execution_count": null,
   "metadata": {},
   "outputs": [],
   "source": []
  }
 ],
 "metadata": {
  "kernelspec": {
   "display_name": "Python 3",
   "language": "python",
   "name": "python3"
  },
  "language_info": {
   "codemirror_mode": {
    "name": "ipython",
    "version": 3
   },
   "file_extension": ".py",
   "mimetype": "text/x-python",
   "name": "python",
   "nbconvert_exporter": "python",
   "pygments_lexer": "ipython3",
   "version": "3.6.5"
  }
 },
 "nbformat": 4,
 "nbformat_minor": 2
}
